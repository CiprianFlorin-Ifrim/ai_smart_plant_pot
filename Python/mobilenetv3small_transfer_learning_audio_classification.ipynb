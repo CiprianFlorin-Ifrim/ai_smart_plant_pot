{
 "cells": [
  {
   "cell_type": "code",
   "execution_count": 1,
   "id": "6d3de50c",
   "metadata": {},
   "outputs": [
    {
     "name": "stderr",
     "output_type": "stream",
     "text": [
      "/var/folders/ry/454yhlzx6hd15j7rjv4th0lw0000gn/T/ipykernel_36848/2828031236.py:2: DeprecationWarning: Importing display from IPython.core.display is deprecated since IPython 7.14, please import from IPython display\n",
      "  from IPython.core.display import display, HTML\n"
     ]
    },
    {
     "data": {
      "text/html": [
       "<style>.container { width:100% !important; }</style>"
      ],
      "text/plain": [
       "<IPython.core.display.HTML object>"
      ]
     },
     "metadata": {},
     "output_type": "display_data"
    }
   ],
   "source": [
    "#-------------------------------------------------------------------------------------JUPYTER NOTEBOOK SETTINGS-------------------------------------------------------------------------------------\n",
    "from IPython.core.display import display, HTML                                    \n",
    "display(HTML(\"<style>.container { width:100% !important; }</style>\"))  "
   ]
  },
  {
   "cell_type": "code",
   "execution_count": null,
   "id": "614d1c98",
   "metadata": {},
   "outputs": [],
   "source": [
    "import os\n",
    "import gc\n",
    "import re\n",
    "import librosa\n",
    "import numpy as np\n",
    "import pandas as pd\n",
    "from tqdm.notebook import tqdm\n",
    "from joblib import dump, load\n",
    "\n",
    "from sklearn.model_selection import train_test_split\n",
    "from sklearn.metrics import confusion_matrix, classification_report\n",
    "from sklearn.manifold import TSNE\n",
    "from sklearn.preprocessing import LabelEncoder\n",
    "\n",
    "import tensorflow as tf\n",
    "from tensorflow.keras.models import Sequential\n",
    "from tensorflow.keras.layers import GlobalAveragePooling2D, Dense, Reshape, Dropout\n",
    "from tensorflow.keras.optimizers import Adam\n",
    "from tensorflow.keras.callbacks import ModelCheckpoint, EarlyStopping, ReduceLROnPlateau\n",
    "from tensorflow.keras.applications import MobileNetV3Small\n",
    "\n",
    "import seaborn as sns\n",
    "import matplotlib.pyplot as plt\n",
    "import plotly.express as px"
   ]
  },
  {
   "cell_type": "code",
   "execution_count": null,
   "id": "8824d623",
   "metadata": {},
   "outputs": [],
   "source": [
    "x_train, y_train = load('saved_data/train_data.joblib')\n",
    "x_val, y_val = load('saved_data/val_data.joblib')\n",
    "x_test, y_test = load('saved_data/test_data.joblib')"
   ]
  },
  {
   "cell_type": "code",
   "execution_count": null,
   "id": "bcc7e291",
   "metadata": {},
   "outputs": [],
   "source": [
    "# Ensure all input data is float32\n",
    "x_train = np.array(x_train, dtype=np.float32)\n",
    "x_val = np.array(x_val, dtype=np.float32)\n",
    "x_test = np.array(x_test, dtype=np.float32)"
   ]
  },
  {
   "cell_type": "code",
   "execution_count": null,
   "id": "9c69a6c1",
   "metadata": {},
   "outputs": [],
   "source": [
    "print(\"Train data:\", x_train.shape, x_train.dtype)\n",
    "print(\"Validation data:\", x_val.shape, x_val.dtype)\n",
    "print(\"Test data:\", x_test.shape, x_test.dtype)\n",
    "\n",
    "# Check for any NaN or inf values in your dataset\n",
    "print(\"NaNs in train:\", np.isnan(x_train).any())\n",
    "print(\"NaNs in validation:\", np.isnan(x_val).any())\n",
    "print(\"NaNs in test:\", np.isnan(x_test).any())\n",
    "\n",
    "print(\"Infs in train:\", np.isinf(x_train).any())\n",
    "print(\"Infs in validation:\", np.isinf(x_val).any())\n",
    "print(\"Infs in test:\", np.isinf(x_test).any())"
   ]
  },
  {
   "cell_type": "code",
   "execution_count": null,
   "id": "9cf5f689",
   "metadata": {},
   "outputs": [],
   "source": [
    "# ONEHOT ENCODING THE LABELS\n",
    "label_encoder = LabelEncoder()\n",
    "y_train_encoded = label_encoder.fit_transform(y_train)\n",
    "y_val_encoded = label_encoder.transform(y_val)\n",
    "y_test_encoded = label_encoder.transform(y_test)\n",
    "\n",
    "# Convert labels to one-hot encoding\n",
    "y_train_onehot = to_categorical(y_train_encoded)\n",
    "y_val_onehot = to_categorical(y_val_encoded)\n",
    "y_test_onehot = to_categorical(y_test_encoded)"
   ]
  },
  {
   "cell_type": "code",
   "execution_count": null,
   "id": "e9eead87",
   "metadata": {},
   "outputs": [],
   "source": [
    "# Define paths and initial settings\n",
    "directory = 'saved_data/'\n",
    "if not os.path.exists(directory):\n",
    "    os.makedirs(directory)\n",
    "\n",
    "# Load MobileNetV3 Small pre-trained on ImageNet\n",
    "base_model = MobileNetV3Small(weights='imagenet', include_top=False, input_shape=(96, 96, 3))\n",
    "\n",
    "# Freeze the convolutional base\n",
    "base_model.trainable = False\n",
    "\n",
    "# Model architecture adapted for audio classification\n",
    "model = Sequential([\n",
    "    Reshape((13, 332, 1), input_shape=(13, 332)),  # Reshape input to have 1 channel\n",
    "    tf.keras.layers.UpSampling2D(size=(7, 1)),  # Upsample to get closer to the expected input size of MobileNetV3\n",
    "    tf.keras.layers.Conv2D(3, (3, 3), activation='relu', padding='same'),  # Convert to 3 channels\n",
    "    base_model,\n",
    "    GlobalAveragePooling2D(),\n",
    "    Dropout(0.2),\n",
    "    Dense(64, activation='relu'),\n",
    "    Dropout(0.5),\n",
    "    Dense(y_train_onehot.shape[1], activation='softmax')\n",
    "])\n",
    "\n",
    "# Create an Adam optimizer with a specified initial learning rate\n",
    "optimizer = Adam(learning_rate=0.0001)\n",
    "model.compile(optimizer=optimizer, loss='categorical_crossentropy', metrics=['accuracy'])\n",
    "\n",
    "# Setup callbacks\n",
    "early_stopping_monitor = EarlyStopping(monitor='val_loss', patience=10, restore_best_weights=True, verbose=1)\n",
    "reduce_lr_on_plateau = ReduceLROnPlateau(monitor='val_loss', factor=0.5, patience=5, min_lr=0.000001, verbose=1)\n",
    "weights_saver = ModelCheckpoint(f'{directory}mobilenetv3small_finetuned_model_weights_epoch_{epoch}.h5', save_freq=50, save_weights_only=True, verbose=1)\n",
    "\n",
    "# Train the model\n",
    "history = model.fit(\n",
    "    x_train,\n",
    "    y_train_onehot,\n",
    "    epochs=300,\n",
    "    batch_size=256,\n",
    "    validation_data=(x_val, y_val_onehot),\n",
    "    callbacks=[weights_saver, early_stopping_monitor, reduce_lr_on_plateau],\n",
    "    verbose=1\n",
    ")\n",
    "\n",
    "# Save final model\n",
    "model.save(f'{directory}mobilenetv3small_finetuned_model.keras', save_format='tf')\n",
    "\n",
    "# Save the final training history\n",
    "from joblib import dump\n",
    "dump(history.history, f'{directory}mobilenetv3small_finetuned_training_history.joblib')"
   ]
  }
 ],
 "metadata": {
  "kernelspec": {
   "display_name": "Python 3 (ipykernel)",
   "language": "python",
   "name": "python3"
  },
  "language_info": {
   "codemirror_mode": {
    "name": "ipython",
    "version": 3
   },
   "file_extension": ".py",
   "mimetype": "text/x-python",
   "name": "python",
   "nbconvert_exporter": "python",
   "pygments_lexer": "ipython3",
   "version": "3.11.3"
  }
 },
 "nbformat": 4,
 "nbformat_minor": 5
}
