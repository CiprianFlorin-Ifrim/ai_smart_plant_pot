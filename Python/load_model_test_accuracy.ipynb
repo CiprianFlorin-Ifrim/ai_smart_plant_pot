{
 "cells": [
  {
   "cell_type": "code",
   "execution_count": null,
   "id": "3ef5b202",
   "metadata": {},
   "outputs": [],
   "source": [
    "#-------------------------------------------------------------------------------------JUPYTER NOTEBOOK SETTINGS-------------------------------------------------------------------------------------\n",
    "from IPython.core.display import display, HTML                                    \n",
    "display(HTML(\"<style>.container { width:100% !important; }</style>\"))  "
   ]
  },
  {
   "cell_type": "code",
   "execution_count": null,
   "id": "a2317a68",
   "metadata": {},
   "outputs": [],
   "source": [
    "import os\n",
    "import gc\n",
    "import re\n",
    "import librosa\n",
    "import numpy as np\n",
    "import pandas as pd\n",
    "from tqdm.notebook import tqdm\n",
    "from joblib import dump, load\n",
    "\n",
    "from sklearn.model_selection import train_test_split\n",
    "from sklearn.metrics import confusion_matrix, classification_report\n",
    "from sklearn.manifold import TSNE\n",
    "from sklearn.preprocessing import LabelEncoder\n",
    "\n",
    "import tensorflow as tf\n",
    "from tensorflow.keras.models import Sequential, load_model\n",
    "from tensorflow.keras.layers import Input, Conv1D, MaxPooling1D, Dropout, Flatten, Dense, BatchNormalization\n",
    "from tensorflow.keras.regularizers import l2\n",
    "from tensorflow.keras.utils import to_categorical\n",
    "from tensorflow.keras.optimizers import Adam\n",
    "from tensorflow.keras.callbacks import Callback, ReduceLROnPlateau, ModelCheckpoint, EarlyStopping \n",
    "\n",
    "import seaborn as sns\n",
    "import matplotlib.pyplot as plt\n",
    "import plotly.express as px"
   ]
  },
  {
   "cell_type": "code",
   "execution_count": null,
   "id": "60a8e90f",
   "metadata": {},
   "outputs": [],
   "source": [
    "model = load_model('saved_data/models/non-masked_mobilenetv3-finetuned/mobilenetv3small_finetuned_model.keras')\n",
    "history = load('saved_data/models/non-masked_custom_cnn/custom-cnn_training_history.joblib')\n",
    "x_test, y_test = load('saved_data/test_data.joblib')\n",
    "x_test = np.array(x_test, dtype=np.float32)\n",
    "\n",
    "all_labels = ['battery', 'description', 'environment', 'greeting', 'health', 'noise', 'nutrition', 'silence', 'sun', 'water']\n",
    "label_encoder = LabelEncoder()\n",
    "label_encoder.fit(all_labels)\n",
    "\n",
    "# Predictions with the model\n",
    "y_pred = np.argmax(model.predict(x_test), axis=1)\n",
    "\n",
    "# Decode the integer predictions back to string labels\n",
    "y_pred_labels = label_encoder.inverse_transform(y_pred)\n",
    "\n",
    "# Encode y_test if it's not already in integer form\n",
    "if isinstance(y_test[0], str):\n",
    "    y_test_encoded = label_encoder.transform(y_test)\n",
    "else:\n",
    "    y_test_encoded = y_test\n",
    "\n",
    "# Compute confusion matrix with integer labels for calculation\n",
    "conf_matrix = confusion_matrix(y_test_encoded, y_pred)\n",
    "\n",
    "# Classification Report with string labels\n",
    "print(\"Number of epochs trained:\", len(history['loss']))\n",
    "print(classification_report(y_test_encoded, y_pred, target_names=label_encoder.classes_))"
   ]
  },
  {
   "cell_type": "code",
   "execution_count": null,
   "id": "38340edd",
   "metadata": {},
   "outputs": [],
   "source": [
    "# Plot confusion matrix with string labels for readability\n",
    "fig, ax = plt.subplots(figsize=(8, 8))\n",
    "sns.heatmap(conf_matrix, annot=True, fmt='d', cmap='Greens', ax=ax, \n",
    "            xticklabels=label_encoder.classes_, \n",
    "            yticklabels=label_encoder.classes_)\n",
    "ax.set_xlabel('Predicted Labels')\n",
    "ax.set_ylabel('True Labels')\n",
    "ax.set_title('Confusion Matrix')\n",
    "plt.show()\n",
    "\n",
    "# Loss and Accuracy Per Epoch plots\n",
    "# plt.figure(figsize=(12, 6))\n",
    "# plt.subplot(1, 2, 1)\n",
    "# plt.plot(history['loss'], label='Training Loss')\n",
    "# plt.plot(history['val_loss'], label='Validation Loss')\n",
    "# plt.title('Loss Per Epoch')\n",
    "# plt.xlabel('Epoch')\n",
    "# plt.ylabel('Loss')\n",
    "# plt.legend()\n",
    "\n",
    "# plt.subplot(1, 2, 2)\n",
    "# plt.plot(history['accuracy'], label='Training Accuracy')\n",
    "# plt.plot(history['val_accuracy'], label='Validation Accuracy')\n",
    "# plt.title('Accuracy Per Epoch')\n",
    "# plt.xlabel('Epoch')\n",
    "# plt.ylabel('Accuracy')\n",
    "# plt.legend()\n",
    "# plt.tight_layout()\n",
    "# plt.show()"
   ]
  }
 ],
 "metadata": {
  "kernelspec": {
   "display_name": "Python 3 (ipykernel)",
   "language": "python",
   "name": "python3"
  },
  "language_info": {
   "codemirror_mode": {
    "name": "ipython",
    "version": 3
   },
   "file_extension": ".py",
   "mimetype": "text/x-python",
   "name": "python",
   "nbconvert_exporter": "python",
   "pygments_lexer": "ipython3",
   "version": "3.11.3"
  }
 },
 "nbformat": 4,
 "nbformat_minor": 5
}
