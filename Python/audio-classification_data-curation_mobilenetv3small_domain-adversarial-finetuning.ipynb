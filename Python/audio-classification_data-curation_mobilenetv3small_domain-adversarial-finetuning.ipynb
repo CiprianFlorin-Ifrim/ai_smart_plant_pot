{
 "cells": [
  {
   "cell_type": "code",
   "execution_count": 1,
   "id": "6f4938d9",
   "metadata": {},
   "outputs": [
    {
     "name": "stderr",
     "output_type": "stream",
     "text": [
      "/var/folders/ry/454yhlzx6hd15j7rjv4th0lw0000gn/T/ipykernel_80258/4123656545.py:2: DeprecationWarning: Importing display from IPython.core.display is deprecated since IPython 7.14, please import from IPython display\n",
      "  from IPython.core.display import display, HTML\n"
     ]
    },
    {
     "data": {
      "text/html": [
       "<style>.container { width:100% !important; }</style>"
      ],
      "text/plain": [
       "<IPython.core.display.HTML object>"
      ]
     },
     "metadata": {},
     "output_type": "display_data"
    }
   ],
   "source": [
    "#-------------------------------------------------------------------------------------JUPYTER NOTEBOOK SETTINGS-------------------------------------------------------------------------------------\n",
    "from IPython.core.display import display, HTML                                    \n",
    "display(HTML(\"<style>.container { width:100% !important; }</style>\"))  \n",
    "import IPython.display as display"
   ]
  },
  {
   "cell_type": "code",
   "execution_count": 2,
   "id": "5f22aa74",
   "metadata": {},
   "outputs": [],
   "source": [
    "import os\n",
    "import gc\n",
    "import re\n",
    "import librosa\n",
    "import numpy as np\n",
    "import pandas as pd\n",
    "from tqdm.notebook import tqdm\n",
    "from joblib import dump, load\n",
    "\n",
    "from sklearn.model_selection import train_test_split\n",
    "from sklearn.metrics import confusion_matrix, classification_report\n",
    "from sklearn.manifold import TSNE\n",
    "from sklearn.preprocessing import LabelEncoder\n",
    "\n",
    "import tensorflow as tf\n",
    "from tensorflow.keras.models import Sequential, load_model, Model\n",
    "from tensorflow.keras.layers import Layer, Input, Dense, Dropout, Flatten, BatchNormalization, Conv2D, UpSampling2D, GlobalAveragePooling2D, Reshape\n",
    "from tensorflow.keras.regularizers import l2\n",
    "from tensorflow.keras.utils import to_categorical\n",
    "from tensorflow.keras.optimizers import Adam\n",
    "from tensorflow.keras.callbacks import Callback, ReduceLROnPlateau, ModelCheckpoint, EarlyStopping \n",
    "from tensorflow.keras import mixed_precision\n",
    "from tensorflow.keras.applications import MobileNetV3Small\n",
    "import tensorflow.keras.backend as K\n",
    "\n",
    "import seaborn as sns\n",
    "import matplotlib.pyplot as plt\n",
    "import plotly.express as px"
   ]
  },
  {
   "cell_type": "code",
   "execution_count": 3,
   "id": "6dfb8a38",
   "metadata": {},
   "outputs": [
    {
     "name": "stdout",
     "output_type": "stream",
     "text": [
      "Num GPUs Available:  1\n"
     ]
    },
    {
     "data": {
      "text/plain": [
       "[PhysicalDevice(name='/physical_device:GPU:0', device_type='GPU')]"
      ]
     },
     "execution_count": 3,
     "metadata": {},
     "output_type": "execute_result"
    }
   ],
   "source": [
    "print(\"Num GPUs Available: \", len(tf.config.list_physical_devices('GPU')))\n",
    "tf.config.list_physical_devices('GPU')"
   ]
  },
  {
   "cell_type": "code",
   "execution_count": 4,
   "id": "aa1e95fe",
   "metadata": {},
   "outputs": [],
   "source": [
    "# Set up mixed precision policy\n",
    "mixed_precision.set_global_policy('mixed_float16')"
   ]
  },
  {
   "cell_type": "markdown",
   "id": "e63bdeba",
   "metadata": {},
   "source": [
    "### Data Loading and Processing"
   ]
  },
  {
   "cell_type": "code",
   "execution_count": null,
   "id": "9152988e",
   "metadata": {},
   "outputs": [],
   "source": [
    "def calculate_frames_directory(directory):\n",
    "    max_length = 0 \n",
    "    labels = [label for label in os.listdir(directory) if os.path.isdir(os.path.join(directory, label))]\n",
    "    \n",
    "    # Finding the maximum number of frames among all samples with a progress bar\n",
    "    for label in tqdm(labels, desc=\"Finding Max Length\"):\n",
    "        label_path = os.path.join(directory, label)\n",
    "        wav_files = [os.path.join(label_path, file) for file in os.listdir(label_path) if file.endswith('.wav')]\n",
    "\n",
    "        Process each file in the label directory\n",
    "        for wav_file in tqdm(wav_files, desc=f\"Processing {label}\", leave=False):\n",
    "            signal, sr = librosa.load(wav_file, sr=16000)\n",
    "            mfccs = librosa.feature.mfcc(y=signal, sr=sr, n_mfcc=13, n_fft=256, hop_length=160, n_mels=32, fmin=0, fmax=8000)\n",
    "            if mfccs.shape[1] > max_length:\n",
    "                max_length = mfccs.shape[1]\n",
    "        \n",
    "    return max_lenght\n",
    "\n",
    "directory = \"/Users/ciprian/Desktop/Projects/Smart Plant Pot/Audio/Voice Recognition/Prototype 3\"\n",
    "max_window_length = calculate_frames_directory()"
   ]
  },
  {
   "cell_type": "code",
   "execution_count": null,
   "id": "4127f490",
   "metadata": {},
   "outputs": [],
   "source": [
    "# Augmentation functions\n",
    "def time_masking(mfccs, width=10, num_masks=2):\n",
    "    \"\"\" Apply time masking to a series of MFCCs with a given width and number of times, more intensively. \"\"\"\n",
    "    masked_mfccs = np.copy(mfccs)\n",
    "    for _ in range(num_masks):\n",
    "        t = np.random.randint(0, max(1, masked_mfccs.shape[1] - width))\n",
    "        masked_mfccs[:, t:t+width] = 0\n",
    "    return masked_mfccs\n",
    "\n",
    "def frequency_masking(mfccs, width=5, num_masks=2):\n",
    "    \"\"\" Apply frequency masking to a series of MFCCs with a larger width and more times. \"\"\"\n",
    "    masked_mfccs = np.copy(mfccs)\n",
    "    for _ in range(num_masks):\n",
    "        f = np.random.randint(0, max(1, masked_mfccs.shape[0] - width))\n",
    "        masked_mfccs[f:f+width, :] = 0\n",
    "    return masked_mfccs\n",
    "\n",
    "def time_warping(signal, sr, warping_factor=0.8):\n",
    "    \"\"\" Warp time axis of a signal with a given warping factor, adjusted to be more severe. \"\"\"\n",
    "    n_steps = int(signal.size * (1 - warping_factor))\n",
    "    if n_steps >= signal.size or n_steps < 1:\n",
    "        return signal  # Return original signal if warping is not feasible\n",
    "    return np.interp(np.arange(signal.size), np.linspace(0, signal.size, num=signal.size - n_steps), signal[:signal.size - n_steps])\n",
    "\n",
    "def apply_augmentation(signal, sr, mfccs, intensity='medium'):\n",
    "    \"\"\"Apply specified augmentation level to signal and MFCCs.\"\"\"\n",
    "    if intensity == 'high':\n",
    "        signal = time_warping(signal, sr, warping_factor=np.random.uniform(0.7, 1.3))\n",
    "        mfccs = time_masking(mfccs, width=15, num_masks=2)\n",
    "        mfccs = frequency_masking(mfccs, width=10, num_masks=2)\n",
    "    elif intensity == 'medium':\n",
    "        if np.random.rand() < 0.5:\n",
    "            signal = time_warping(signal, sr, warping_factor=np.random.uniform(0.8, 1.2))\n",
    "        mfccs = time_masking(mfccs, width=10, num_masks=2)\n",
    "        mfccs = frequency_masking(mfccs, width=5, num_masks=2)\n",
    "    elif intensity == 'low':\n",
    "        choice = np.random.choice(['time', 'freq'])\n",
    "        if choice == 'time':\n",
    "            mfccs = time_masking(mfccs, width=8, num_masks=1)\n",
    "        else:\n",
    "            mfccs = frequency_masking(mfccs, width=4, num_masks=1)\n",
    "    return signal, mfccs\n",
    "\n",
    "def load_and_augment_data(directory, augment=True):\n",
    "    max_length = 332  \n",
    "    labels = [label for label in os.listdir(directory) if os.path.isdir(os.path.join(directory, label))]\n",
    "    x, y, genders = [], [], []\n",
    "\n",
    "    for label in tqdm(labels, desc=\"Loading and Padding Data\"):\n",
    "        label_path = os.path.join(directory, label)\n",
    "        wav_files = [os.path.join(label_path, file) for file in os.listdir(label_path) if file.endswith('.wav')]\n",
    "        \n",
    "        for wav_file in tqdm(wav_files, desc=f\"Padding {label}\", leave=False):\n",
    "            signal, sr = librosa.load(wav_file, sr=16000)\n",
    "            mfccs = librosa.feature.mfcc(y=signal, sr=sr, n_mfcc=13, n_fft=256, hop_length=160, n_mels=32, fmin=0, fmax=8000)\n",
    "            \n",
    "            if augment:\n",
    "                intensity = np.random.choice(['none', 'low', 'medium', 'high'], p=[0.25, 0.25, 0.25, 0.25])\n",
    "                if intensity != 'none':\n",
    "                    signal, mfccs = apply_augmentation(signal, sr, mfccs, intensity)\n",
    "            \n",
    "            pad_width = max_length - mfccs.shape[1]\n",
    "            mfccs_padded = np.pad(mfccs, pad_width=((0, 0), (0, pad_width)), mode='constant')\n",
    "            x.append(mfccs_padded)\n",
    "            y.append(label)\n",
    "            \n",
    "            if label in ['noise', 'silence']:\n",
    "                genders.append(-1)  # No gender\n",
    "            elif 'pitched' in wav_file.lower():\n",
    "                genders.append(1)  # Female\n",
    "            else:\n",
    "                genders.append(0)  # Male\n",
    "\n",
    "    return np.array(x, dtype=np.float32), np.array(y), np.array(genders)\n",
    "\n",
    "# Load data and split\n",
    "directory = \"/Users/ciprian/Desktop/Projects/Smart Plant Pot/Audio/Voice Recognition/Prototype 3\"\n",
    "x, y, genders = load_and_augment_data(directory)\n",
    "x_train, x_temp, y_train, y_temp, genders_train, genders_temp = train_test_split(x, y, genders, test_size=0.3, random_state=42, stratify=y)\n",
    "x_val, x_test, y_val, y_test, genders_val, genders_test = train_test_split(x_temp, y_temp, genders_temp, test_size=0.5, random_state=42, stratify=y_temp)"
   ]
  },
  {
   "cell_type": "code",
   "execution_count": null,
   "id": "9120ac91",
   "metadata": {},
   "outputs": [],
   "source": [
    "# Assuming x_train is properly shaped and contains MFCC features\n",
    "if len(x_train) > 1:\n",
    "    print(f\"The number of features extracted from one of the samples is: {len(x_train[1])}\")\n",
    "    print(f\"Number of frames (windows) in the first sample: {x_train[0].shape[1]}\\n\")\n",
    "else:\n",
    "    print(\"Not enough samples in x_train to display features.\\n\")\n",
    "\n",
    "print(f\"The number of samples for training is {len(x_train)}, with the number of labels {len(y_train)}\")\n",
    "print(f\"The number of samples for validation is {len(x_val)}, with the number of labels {len(y_val)}\")\n",
    "print(f\"The number of samples for testing is {len(x_test)}, with the number of labels {len(y_test)}\")\n",
    "print(f\"The data for gender validation is {len(genders_val)}, with the testing data {len(genders_test)}, with training data {len(genders_train)}\")"
   ]
  },
  {
   "cell_type": "code",
   "execution_count": null,
   "id": "79ef741a",
   "metadata": {},
   "outputs": [],
   "source": [
    "# Flatten the MFCC features for the first 10 samples for display purposes\n",
    "x_flattened_for_display = [x[i].flatten()[:25] for i in range(25)]  # Display only the first 10 MFCC coefficients of each sample\n",
    "\n",
    "# Create a DataFrame with the flattened MFCC features and labels\n",
    "df = pd.DataFrame(x_flattened_for_display)\n",
    "df['Label'] = y[:25]  # Add the labels as the last column\n",
    "\n",
    "# Setting column names for clarity in display\n",
    "feature_columns = [f'Feature_{i+1}' for i in range(df.shape[1] - 1)]  # Feature column names\n",
    "df.columns = feature_columns + ['Label']  # Rename the columns for better understanding\n",
    "\n",
    "# Display the DataFrame in Jupyter Notebook\n",
    "df"
   ]
  },
  {
   "cell_type": "code",
   "execution_count": null,
   "id": "5adf0383",
   "metadata": {},
   "outputs": [],
   "source": [
    "dump((x_train, y_train), 'saved_data/train_data.joblib')\n",
    "dump((x_val, y_val), 'saved_data/val_data.joblib')\n",
    "dump((x_test, y_test), 'saved_data/test_data.joblib')\n",
    "dump((genders_train, genders_val, genders_test), 'saved_data/genders_data.joblib')\n",
    "print(\"All extracted features from the samples have been saved properly!\")"
   ]
  },
  {
   "cell_type": "markdown",
   "id": "e22e6409",
   "metadata": {},
   "source": [
    "### CNN Setup and Training"
   ]
  },
  {
   "cell_type": "code",
   "execution_count": 5,
   "id": "3bbf41be",
   "metadata": {},
   "outputs": [],
   "source": [
    "x_train, y_train = load('saved_data/data/adversarial-training_medium-masked_data/train_data.joblib')\n",
    "x_val, y_val = load('saved_data/data/adversarial-training_medium-masked_data/val_data.joblib')\n",
    "x_test, y_test = load('saved_data/data/adversarial-training_medium-masked_data/test_data.joblib')\n",
    "genders_train, genders_val, genders_test = load('saved_data/data/adversarial-training_medium-masked_data/genders_data.joblib') "
   ]
  },
  {
   "cell_type": "code",
   "execution_count": null,
   "id": "a71d3e26",
   "metadata": {},
   "outputs": [],
   "source": [
    "x = np.concatenate((x_train, x_val, x_test))\n",
    "y = np.concatenate((y_train, y_val, y_test))"
   ]
  },
  {
   "cell_type": "code",
   "execution_count": 6,
   "id": "4effe56b",
   "metadata": {},
   "outputs": [
    {
     "name": "stdout",
     "output_type": "stream",
     "text": [
      "Train data: (63000, 13, 332) float32\n",
      "Validation data: (13500, 13, 332) float32\n",
      "Test data: (13500, 13, 332) float32\n",
      "Gender data: [0 0 0 ... 0 1 0] [-1 -1  0 ...  0  0  1] [ 0  1  1 ... -1  1  1]\n",
      "NaNs in train: False\n",
      "NaNs in validation: False\n",
      "NaNs in test: False\n",
      "NaNs in gender train: False\n",
      "NaNs in gender validation: False\n",
      "NaNs in gender test: False\n",
      "Infs in train: False\n",
      "Infs in validation: False\n",
      "Infs in test: False\n",
      "Infs in gender train: False\n",
      "Infs in gender validation: False\n",
      "Infs in gender test: False\n"
     ]
    }
   ],
   "source": [
    "print(\"Train data:\", x_train.shape, x_train.dtype)\n",
    "print(\"Validation data:\", x_val.shape, x_val.dtype)\n",
    "print(\"Test data:\", x_test.shape, x_test.dtype)\n",
    "print(\"Gender data:\", genders_train, genders_val, genders_test)\n",
    "\n",
    "# Check for any NaN or inf values in your dataset\n",
    "print(\"NaNs in train:\", np.isnan(x_train).any())\n",
    "print(\"NaNs in validation:\", np.isnan(x_val).any())\n",
    "print(\"NaNs in test:\", np.isnan(x_test).any())\n",
    "print(\"NaNs in gender train:\", np.isnan(genders_train).any())\n",
    "print(\"NaNs in gender validation:\", np.isnan(genders_val).any())\n",
    "print(\"NaNs in gender test:\", np.isnan(genders_test).any())\n",
    "\n",
    "print(\"Infs in train:\", np.isinf(x_train).any())\n",
    "print(\"Infs in validation:\", np.isinf(x_val).any())\n",
    "print(\"Infs in test:\", np.isinf(x_test).any())\n",
    "print(\"Infs in gender train:\", np.isinf(genders_train).any())\n",
    "print(\"Infs in gender validation:\", np.isinf(genders_val).any())\n",
    "print(\"Infs in gender test:\", np.isinf(genders_test).any())"
   ]
  },
  {
   "cell_type": "code",
   "execution_count": 7,
   "id": "d8434967",
   "metadata": {},
   "outputs": [],
   "source": [
    "# ONEHOT ENCODING THE LABELS\n",
    "label_encoder = LabelEncoder()\n",
    "y_train_encoded = label_encoder.fit_transform(y_train)\n",
    "y_val_encoded = label_encoder.transform(y_val)\n",
    "y_test_encoded = label_encoder.transform(y_test)\n",
    "\n",
    "# Convert labels to one-hot encoding\n",
    "y_train_onehot = to_categorical(y_train_encoded)\n",
    "y_val_onehot = to_categorical(y_val_encoded)\n",
    "y_test_onehot = to_categorical(y_test_encoded)"
   ]
  },
  {
   "cell_type": "code",
   "execution_count": 8,
   "id": "740d1b5b",
   "metadata": {},
   "outputs": [
    {
     "name": "stderr",
     "output_type": "stream",
     "text": [
      "2024-05-21 00:11:06.198115: I metal_plugin/src/device/metal_device.cc:1154] Metal device set to: Apple M1 Pro\n",
      "2024-05-21 00:11:06.198142: I metal_plugin/src/device/metal_device.cc:296] systemMemory: 16.00 GB\n",
      "2024-05-21 00:11:06.198147: I metal_plugin/src/device/metal_device.cc:313] maxCacheSize: 5.33 GB\n",
      "2024-05-21 00:11:06.198166: I tensorflow/core/common_runtime/pluggable_device/pluggable_device_factory.cc:305] Could not identify NUMA node of platform GPU ID 0, defaulting to 0. Your kernel may not have been built with NUMA support.\n",
      "2024-05-21 00:11:06.198179: I tensorflow/core/common_runtime/pluggable_device/pluggable_device_factory.cc:271] Created TensorFlow device (/job:localhost/replica:0/task:0/device:GPU:0 with 0 MB memory) -> physical PluggableDevice (device: 0, name: METAL, pci bus id: <undefined>)\n"
     ]
    },
    {
     "name": "stdout",
     "output_type": "stream",
     "text": [
      "No weights file found.\n",
      "Epoch 1/50\n"
     ]
    },
    {
     "name": "stderr",
     "output_type": "stream",
     "text": [
      "2024-05-21 00:11:11.638665: I tensorflow/core/grappler/optimizers/custom_graph_optimizer_registry.cc:117] Plugin optimizer for device_type GPU is enabled.\n"
     ]
    },
    {
     "name": "stdout",
     "output_type": "stream",
     "text": [
      "\u001b[1m 56/124\u001b[0m \u001b[32m━━━━━━━━━\u001b[0m\u001b[37m━━━━━━━━━━━\u001b[0m \u001b[1m6:12\u001b[0m 5s/step - domain_output_accuracy: 0.3840 - loss: 6.5199 - task_output_accuracy: 0.1432"
     ]
    },
    {
     "ename": "KeyboardInterrupt",
     "evalue": "",
     "output_type": "error",
     "traceback": [
      "\u001b[0;31m---------------------------------------------------------------------------\u001b[0m",
      "\u001b[0;31mKeyboardInterrupt\u001b[0m                         Traceback (most recent call last)",
      "Cell \u001b[0;32mIn[8], line 102\u001b[0m\n\u001b[1;32m     99\u001b[0m y_train_onehot_valid \u001b[38;5;241m=\u001b[39m y_train_onehot[valid_idx]\n\u001b[1;32m    100\u001b[0m genders_train_valid \u001b[38;5;241m=\u001b[39m genders_train[valid_idx]\n\u001b[0;32m--> 102\u001b[0m history \u001b[38;5;241m=\u001b[39m model\u001b[38;5;241m.\u001b[39mfit(\n\u001b[1;32m    103\u001b[0m     x_train,\n\u001b[1;32m    104\u001b[0m     {\u001b[38;5;124m'\u001b[39m\u001b[38;5;124mtask_output\u001b[39m\u001b[38;5;124m'\u001b[39m: y_train_onehot, \u001b[38;5;124m'\u001b[39m\u001b[38;5;124mdomain_output\u001b[39m\u001b[38;5;124m'\u001b[39m: genders_train},\n\u001b[1;32m    105\u001b[0m     epochs\u001b[38;5;241m=\u001b[39mcurrent_epoch \u001b[38;5;241m+\u001b[39m num_epochs_per_stage,\n\u001b[1;32m    106\u001b[0m     batch_size\u001b[38;5;241m=\u001b[39m\u001b[38;5;241m512\u001b[39m,  \u001b[38;5;66;03m# Reduced batch size\u001b[39;00m\n\u001b[1;32m    107\u001b[0m     validation_data\u001b[38;5;241m=\u001b[39m(x_val, {\u001b[38;5;124m'\u001b[39m\u001b[38;5;124mtask_output\u001b[39m\u001b[38;5;124m'\u001b[39m: y_val_onehot, \u001b[38;5;124m'\u001b[39m\u001b[38;5;124mdomain_output\u001b[39m\u001b[38;5;124m'\u001b[39m: genders_val}),\n\u001b[1;32m    108\u001b[0m     callbacks\u001b[38;5;241m=\u001b[39m[weights_saver, early_stopping_monitor, reduce_lr_on_plateau],\n\u001b[1;32m    109\u001b[0m     initial_epoch\u001b[38;5;241m=\u001b[39mcurrent_epoch,\n\u001b[1;32m    110\u001b[0m     verbose\u001b[38;5;241m=\u001b[39m\u001b[38;5;241m1\u001b[39m  \n\u001b[1;32m    111\u001b[0m )\n\u001b[1;32m    113\u001b[0m all_history\u001b[38;5;241m.\u001b[39mappend(history\u001b[38;5;241m.\u001b[39mhistory)\n\u001b[1;32m    114\u001b[0m current_epoch \u001b[38;5;241m+\u001b[39m\u001b[38;5;241m=\u001b[39m \u001b[38;5;28mlen\u001b[39m(history\u001b[38;5;241m.\u001b[39mhistory[\u001b[38;5;124m'\u001b[39m\u001b[38;5;124mloss\u001b[39m\u001b[38;5;124m'\u001b[39m])\n",
      "File \u001b[0;32m~/Documents/anaconda/anaconda3/lib/python3.11/site-packages/keras/src/utils/traceback_utils.py:117\u001b[0m, in \u001b[0;36mfilter_traceback.<locals>.error_handler\u001b[0;34m(*args, **kwargs)\u001b[0m\n\u001b[1;32m    115\u001b[0m filtered_tb \u001b[38;5;241m=\u001b[39m \u001b[38;5;28;01mNone\u001b[39;00m\n\u001b[1;32m    116\u001b[0m \u001b[38;5;28;01mtry\u001b[39;00m:\n\u001b[0;32m--> 117\u001b[0m     \u001b[38;5;28;01mreturn\u001b[39;00m fn(\u001b[38;5;241m*\u001b[39margs, \u001b[38;5;241m*\u001b[39m\u001b[38;5;241m*\u001b[39mkwargs)\n\u001b[1;32m    118\u001b[0m \u001b[38;5;28;01mexcept\u001b[39;00m \u001b[38;5;167;01mException\u001b[39;00m \u001b[38;5;28;01mas\u001b[39;00m e:\n\u001b[1;32m    119\u001b[0m     filtered_tb \u001b[38;5;241m=\u001b[39m _process_traceback_frames(e\u001b[38;5;241m.\u001b[39m__traceback__)\n",
      "File \u001b[0;32m~/Documents/anaconda/anaconda3/lib/python3.11/site-packages/keras/src/backend/tensorflow/trainer.py:314\u001b[0m, in \u001b[0;36mTensorFlowTrainer.fit\u001b[0;34m(self, x, y, batch_size, epochs, verbose, callbacks, validation_split, validation_data, shuffle, class_weight, sample_weight, initial_epoch, steps_per_epoch, validation_steps, validation_batch_size, validation_freq)\u001b[0m\n\u001b[1;32m    312\u001b[0m \u001b[38;5;28;01mfor\u001b[39;00m step, iterator \u001b[38;5;129;01min\u001b[39;00m epoch_iterator\u001b[38;5;241m.\u001b[39menumerate_epoch():\n\u001b[1;32m    313\u001b[0m     callbacks\u001b[38;5;241m.\u001b[39mon_train_batch_begin(step)\n\u001b[0;32m--> 314\u001b[0m     logs \u001b[38;5;241m=\u001b[39m \u001b[38;5;28mself\u001b[39m\u001b[38;5;241m.\u001b[39mtrain_function(iterator)\n\u001b[1;32m    315\u001b[0m     logs \u001b[38;5;241m=\u001b[39m \u001b[38;5;28mself\u001b[39m\u001b[38;5;241m.\u001b[39m_pythonify_logs(logs)\n\u001b[1;32m    316\u001b[0m     callbacks\u001b[38;5;241m.\u001b[39mon_train_batch_end(step, logs)\n",
      "File \u001b[0;32m~/Documents/anaconda/anaconda3/lib/python3.11/site-packages/tensorflow/python/util/traceback_utils.py:150\u001b[0m, in \u001b[0;36mfilter_traceback.<locals>.error_handler\u001b[0;34m(*args, **kwargs)\u001b[0m\n\u001b[1;32m    148\u001b[0m filtered_tb \u001b[38;5;241m=\u001b[39m \u001b[38;5;28;01mNone\u001b[39;00m\n\u001b[1;32m    149\u001b[0m \u001b[38;5;28;01mtry\u001b[39;00m:\n\u001b[0;32m--> 150\u001b[0m   \u001b[38;5;28;01mreturn\u001b[39;00m fn(\u001b[38;5;241m*\u001b[39margs, \u001b[38;5;241m*\u001b[39m\u001b[38;5;241m*\u001b[39mkwargs)\n\u001b[1;32m    151\u001b[0m \u001b[38;5;28;01mexcept\u001b[39;00m \u001b[38;5;167;01mException\u001b[39;00m \u001b[38;5;28;01mas\u001b[39;00m e:\n\u001b[1;32m    152\u001b[0m   filtered_tb \u001b[38;5;241m=\u001b[39m _process_traceback_frames(e\u001b[38;5;241m.\u001b[39m__traceback__)\n",
      "File \u001b[0;32m~/Documents/anaconda/anaconda3/lib/python3.11/site-packages/tensorflow/python/eager/polymorphic_function/polymorphic_function.py:833\u001b[0m, in \u001b[0;36mFunction.__call__\u001b[0;34m(self, *args, **kwds)\u001b[0m\n\u001b[1;32m    830\u001b[0m compiler \u001b[38;5;241m=\u001b[39m \u001b[38;5;124m\"\u001b[39m\u001b[38;5;124mxla\u001b[39m\u001b[38;5;124m\"\u001b[39m \u001b[38;5;28;01mif\u001b[39;00m \u001b[38;5;28mself\u001b[39m\u001b[38;5;241m.\u001b[39m_jit_compile \u001b[38;5;28;01melse\u001b[39;00m \u001b[38;5;124m\"\u001b[39m\u001b[38;5;124mnonXla\u001b[39m\u001b[38;5;124m\"\u001b[39m\n\u001b[1;32m    832\u001b[0m \u001b[38;5;28;01mwith\u001b[39;00m OptionalXlaContext(\u001b[38;5;28mself\u001b[39m\u001b[38;5;241m.\u001b[39m_jit_compile):\n\u001b[0;32m--> 833\u001b[0m   result \u001b[38;5;241m=\u001b[39m \u001b[38;5;28mself\u001b[39m\u001b[38;5;241m.\u001b[39m_call(\u001b[38;5;241m*\u001b[39margs, \u001b[38;5;241m*\u001b[39m\u001b[38;5;241m*\u001b[39mkwds)\n\u001b[1;32m    835\u001b[0m new_tracing_count \u001b[38;5;241m=\u001b[39m \u001b[38;5;28mself\u001b[39m\u001b[38;5;241m.\u001b[39mexperimental_get_tracing_count()\n\u001b[1;32m    836\u001b[0m without_tracing \u001b[38;5;241m=\u001b[39m (tracing_count \u001b[38;5;241m==\u001b[39m new_tracing_count)\n",
      "File \u001b[0;32m~/Documents/anaconda/anaconda3/lib/python3.11/site-packages/tensorflow/python/eager/polymorphic_function/polymorphic_function.py:878\u001b[0m, in \u001b[0;36mFunction._call\u001b[0;34m(self, *args, **kwds)\u001b[0m\n\u001b[1;32m    875\u001b[0m \u001b[38;5;28mself\u001b[39m\u001b[38;5;241m.\u001b[39m_lock\u001b[38;5;241m.\u001b[39mrelease()\n\u001b[1;32m    876\u001b[0m \u001b[38;5;66;03m# In this case we have not created variables on the first call. So we can\u001b[39;00m\n\u001b[1;32m    877\u001b[0m \u001b[38;5;66;03m# run the first trace but we should fail if variables are created.\u001b[39;00m\n\u001b[0;32m--> 878\u001b[0m results \u001b[38;5;241m=\u001b[39m tracing_compilation\u001b[38;5;241m.\u001b[39mcall_function(\n\u001b[1;32m    879\u001b[0m     args, kwds, \u001b[38;5;28mself\u001b[39m\u001b[38;5;241m.\u001b[39m_variable_creation_config\n\u001b[1;32m    880\u001b[0m )\n\u001b[1;32m    881\u001b[0m \u001b[38;5;28;01mif\u001b[39;00m \u001b[38;5;28mself\u001b[39m\u001b[38;5;241m.\u001b[39m_created_variables:\n\u001b[1;32m    882\u001b[0m   \u001b[38;5;28;01mraise\u001b[39;00m \u001b[38;5;167;01mValueError\u001b[39;00m(\u001b[38;5;124m\"\u001b[39m\u001b[38;5;124mCreating variables on a non-first call to a function\u001b[39m\u001b[38;5;124m\"\u001b[39m\n\u001b[1;32m    883\u001b[0m                    \u001b[38;5;124m\"\u001b[39m\u001b[38;5;124m decorated with tf.function.\u001b[39m\u001b[38;5;124m\"\u001b[39m)\n",
      "File \u001b[0;32m~/Documents/anaconda/anaconda3/lib/python3.11/site-packages/tensorflow/python/eager/polymorphic_function/tracing_compilation.py:139\u001b[0m, in \u001b[0;36mcall_function\u001b[0;34m(args, kwargs, tracing_options)\u001b[0m\n\u001b[1;32m    137\u001b[0m bound_args \u001b[38;5;241m=\u001b[39m function\u001b[38;5;241m.\u001b[39mfunction_type\u001b[38;5;241m.\u001b[39mbind(\u001b[38;5;241m*\u001b[39margs, \u001b[38;5;241m*\u001b[39m\u001b[38;5;241m*\u001b[39mkwargs)\n\u001b[1;32m    138\u001b[0m flat_inputs \u001b[38;5;241m=\u001b[39m function\u001b[38;5;241m.\u001b[39mfunction_type\u001b[38;5;241m.\u001b[39munpack_inputs(bound_args)\n\u001b[0;32m--> 139\u001b[0m \u001b[38;5;28;01mreturn\u001b[39;00m function\u001b[38;5;241m.\u001b[39m_call_flat(  \u001b[38;5;66;03m# pylint: disable=protected-access\u001b[39;00m\n\u001b[1;32m    140\u001b[0m     flat_inputs, captured_inputs\u001b[38;5;241m=\u001b[39mfunction\u001b[38;5;241m.\u001b[39mcaptured_inputs\n\u001b[1;32m    141\u001b[0m )\n",
      "File \u001b[0;32m~/Documents/anaconda/anaconda3/lib/python3.11/site-packages/tensorflow/python/eager/polymorphic_function/concrete_function.py:1322\u001b[0m, in \u001b[0;36mConcreteFunction._call_flat\u001b[0;34m(self, tensor_inputs, captured_inputs)\u001b[0m\n\u001b[1;32m   1318\u001b[0m possible_gradient_type \u001b[38;5;241m=\u001b[39m gradients_util\u001b[38;5;241m.\u001b[39mPossibleTapeGradientTypes(args)\n\u001b[1;32m   1319\u001b[0m \u001b[38;5;28;01mif\u001b[39;00m (possible_gradient_type \u001b[38;5;241m==\u001b[39m gradients_util\u001b[38;5;241m.\u001b[39mPOSSIBLE_GRADIENT_TYPES_NONE\n\u001b[1;32m   1320\u001b[0m     \u001b[38;5;129;01mand\u001b[39;00m executing_eagerly):\n\u001b[1;32m   1321\u001b[0m   \u001b[38;5;66;03m# No tape is watching; skip to running the function.\u001b[39;00m\n\u001b[0;32m-> 1322\u001b[0m   \u001b[38;5;28;01mreturn\u001b[39;00m \u001b[38;5;28mself\u001b[39m\u001b[38;5;241m.\u001b[39m_inference_function\u001b[38;5;241m.\u001b[39mcall_preflattened(args)\n\u001b[1;32m   1323\u001b[0m forward_backward \u001b[38;5;241m=\u001b[39m \u001b[38;5;28mself\u001b[39m\u001b[38;5;241m.\u001b[39m_select_forward_and_backward_functions(\n\u001b[1;32m   1324\u001b[0m     args,\n\u001b[1;32m   1325\u001b[0m     possible_gradient_type,\n\u001b[1;32m   1326\u001b[0m     executing_eagerly)\n\u001b[1;32m   1327\u001b[0m forward_function, args_with_tangents \u001b[38;5;241m=\u001b[39m forward_backward\u001b[38;5;241m.\u001b[39mforward()\n",
      "File \u001b[0;32m~/Documents/anaconda/anaconda3/lib/python3.11/site-packages/tensorflow/python/eager/polymorphic_function/atomic_function.py:216\u001b[0m, in \u001b[0;36mAtomicFunction.call_preflattened\u001b[0;34m(self, args)\u001b[0m\n\u001b[1;32m    214\u001b[0m \u001b[38;5;28;01mdef\u001b[39;00m \u001b[38;5;21mcall_preflattened\u001b[39m(\u001b[38;5;28mself\u001b[39m, args: Sequence[core\u001b[38;5;241m.\u001b[39mTensor]) \u001b[38;5;241m-\u001b[39m\u001b[38;5;241m>\u001b[39m Any:\n\u001b[1;32m    215\u001b[0m \u001b[38;5;250m  \u001b[39m\u001b[38;5;124;03m\"\"\"Calls with flattened tensor inputs and returns the structured output.\"\"\"\u001b[39;00m\n\u001b[0;32m--> 216\u001b[0m   flat_outputs \u001b[38;5;241m=\u001b[39m \u001b[38;5;28mself\u001b[39m\u001b[38;5;241m.\u001b[39mcall_flat(\u001b[38;5;241m*\u001b[39margs)\n\u001b[1;32m    217\u001b[0m   \u001b[38;5;28;01mreturn\u001b[39;00m \u001b[38;5;28mself\u001b[39m\u001b[38;5;241m.\u001b[39mfunction_type\u001b[38;5;241m.\u001b[39mpack_output(flat_outputs)\n",
      "File \u001b[0;32m~/Documents/anaconda/anaconda3/lib/python3.11/site-packages/tensorflow/python/eager/polymorphic_function/atomic_function.py:251\u001b[0m, in \u001b[0;36mAtomicFunction.call_flat\u001b[0;34m(self, *args)\u001b[0m\n\u001b[1;32m    249\u001b[0m \u001b[38;5;28;01mwith\u001b[39;00m record\u001b[38;5;241m.\u001b[39mstop_recording():\n\u001b[1;32m    250\u001b[0m   \u001b[38;5;28;01mif\u001b[39;00m \u001b[38;5;28mself\u001b[39m\u001b[38;5;241m.\u001b[39m_bound_context\u001b[38;5;241m.\u001b[39mexecuting_eagerly():\n\u001b[0;32m--> 251\u001b[0m     outputs \u001b[38;5;241m=\u001b[39m \u001b[38;5;28mself\u001b[39m\u001b[38;5;241m.\u001b[39m_bound_context\u001b[38;5;241m.\u001b[39mcall_function(\n\u001b[1;32m    252\u001b[0m         \u001b[38;5;28mself\u001b[39m\u001b[38;5;241m.\u001b[39mname,\n\u001b[1;32m    253\u001b[0m         \u001b[38;5;28mlist\u001b[39m(args),\n\u001b[1;32m    254\u001b[0m         \u001b[38;5;28mlen\u001b[39m(\u001b[38;5;28mself\u001b[39m\u001b[38;5;241m.\u001b[39mfunction_type\u001b[38;5;241m.\u001b[39mflat_outputs),\n\u001b[1;32m    255\u001b[0m     )\n\u001b[1;32m    256\u001b[0m   \u001b[38;5;28;01melse\u001b[39;00m:\n\u001b[1;32m    257\u001b[0m     outputs \u001b[38;5;241m=\u001b[39m make_call_op_in_graph(\n\u001b[1;32m    258\u001b[0m         \u001b[38;5;28mself\u001b[39m,\n\u001b[1;32m    259\u001b[0m         \u001b[38;5;28mlist\u001b[39m(args),\n\u001b[1;32m    260\u001b[0m         \u001b[38;5;28mself\u001b[39m\u001b[38;5;241m.\u001b[39m_bound_context\u001b[38;5;241m.\u001b[39mfunction_call_options\u001b[38;5;241m.\u001b[39mas_attrs(),\n\u001b[1;32m    261\u001b[0m     )\n",
      "File \u001b[0;32m~/Documents/anaconda/anaconda3/lib/python3.11/site-packages/tensorflow/python/eager/context.py:1500\u001b[0m, in \u001b[0;36mContext.call_function\u001b[0;34m(self, name, tensor_inputs, num_outputs)\u001b[0m\n\u001b[1;32m   1498\u001b[0m cancellation_context \u001b[38;5;241m=\u001b[39m cancellation\u001b[38;5;241m.\u001b[39mcontext()\n\u001b[1;32m   1499\u001b[0m \u001b[38;5;28;01mif\u001b[39;00m cancellation_context \u001b[38;5;129;01mis\u001b[39;00m \u001b[38;5;28;01mNone\u001b[39;00m:\n\u001b[0;32m-> 1500\u001b[0m   outputs \u001b[38;5;241m=\u001b[39m execute\u001b[38;5;241m.\u001b[39mexecute(\n\u001b[1;32m   1501\u001b[0m       name\u001b[38;5;241m.\u001b[39mdecode(\u001b[38;5;124m\"\u001b[39m\u001b[38;5;124mutf-8\u001b[39m\u001b[38;5;124m\"\u001b[39m),\n\u001b[1;32m   1502\u001b[0m       num_outputs\u001b[38;5;241m=\u001b[39mnum_outputs,\n\u001b[1;32m   1503\u001b[0m       inputs\u001b[38;5;241m=\u001b[39mtensor_inputs,\n\u001b[1;32m   1504\u001b[0m       attrs\u001b[38;5;241m=\u001b[39mattrs,\n\u001b[1;32m   1505\u001b[0m       ctx\u001b[38;5;241m=\u001b[39m\u001b[38;5;28mself\u001b[39m,\n\u001b[1;32m   1506\u001b[0m   )\n\u001b[1;32m   1507\u001b[0m \u001b[38;5;28;01melse\u001b[39;00m:\n\u001b[1;32m   1508\u001b[0m   outputs \u001b[38;5;241m=\u001b[39m execute\u001b[38;5;241m.\u001b[39mexecute_with_cancellation(\n\u001b[1;32m   1509\u001b[0m       name\u001b[38;5;241m.\u001b[39mdecode(\u001b[38;5;124m\"\u001b[39m\u001b[38;5;124mutf-8\u001b[39m\u001b[38;5;124m\"\u001b[39m),\n\u001b[1;32m   1510\u001b[0m       num_outputs\u001b[38;5;241m=\u001b[39mnum_outputs,\n\u001b[0;32m   (...)\u001b[0m\n\u001b[1;32m   1514\u001b[0m       cancellation_manager\u001b[38;5;241m=\u001b[39mcancellation_context,\n\u001b[1;32m   1515\u001b[0m   )\n",
      "File \u001b[0;32m~/Documents/anaconda/anaconda3/lib/python3.11/site-packages/tensorflow/python/eager/execute.py:53\u001b[0m, in \u001b[0;36mquick_execute\u001b[0;34m(op_name, num_outputs, inputs, attrs, ctx, name)\u001b[0m\n\u001b[1;32m     51\u001b[0m \u001b[38;5;28;01mtry\u001b[39;00m:\n\u001b[1;32m     52\u001b[0m   ctx\u001b[38;5;241m.\u001b[39mensure_initialized()\n\u001b[0;32m---> 53\u001b[0m   tensors \u001b[38;5;241m=\u001b[39m pywrap_tfe\u001b[38;5;241m.\u001b[39mTFE_Py_Execute(ctx\u001b[38;5;241m.\u001b[39m_handle, device_name, op_name,\n\u001b[1;32m     54\u001b[0m                                       inputs, attrs, num_outputs)\n\u001b[1;32m     55\u001b[0m \u001b[38;5;28;01mexcept\u001b[39;00m core\u001b[38;5;241m.\u001b[39m_NotOkStatusException \u001b[38;5;28;01mas\u001b[39;00m e:\n\u001b[1;32m     56\u001b[0m   \u001b[38;5;28;01mif\u001b[39;00m name \u001b[38;5;129;01mis\u001b[39;00m \u001b[38;5;129;01mnot\u001b[39;00m \u001b[38;5;28;01mNone\u001b[39;00m:\n",
      "\u001b[0;31mKeyboardInterrupt\u001b[0m: "
     ]
    }
   ],
   "source": [
    "# Load latest weights function\n",
    "def load_latest_weights(weights_dir, file_pattern):\n",
    "    \"\"\"Load the latest weights based on the file modification time.\"\"\"\n",
    "    all_weights = [os.path.join(weights_dir, f) for f in os.listdir(weights_dir) if file_pattern in f]\n",
    "    latest_weights = max(all_weights, key=os.path.getmtime, default=None)\n",
    "    if latest_weights:\n",
    "        print(f\"Loading weights from {latest_weights}\")\n",
    "        return latest_weights\n",
    "    else:\n",
    "        print(\"No weights file found.\")\n",
    "        return None\n",
    "\n",
    "# Gradient Reversal Layer\n",
    "class GradientReversalLayer(Layer):\n",
    "    def __init__(self, lambda_, **kwargs):\n",
    "        super(GradientReversalLayer, self).__init__(**kwargs)\n",
    "        self.lambda_ = lambda_\n",
    "\n",
    "    @tf.custom_gradient\n",
    "    def call(self, x):\n",
    "        def grad(dy):\n",
    "            return -self.lambda_ * dy\n",
    "        return x, grad\n",
    "\n",
    "    def get_config(self):\n",
    "        config = super().get_config()\n",
    "        config.update({\n",
    "            \"lambda_\": self.lambda_\n",
    "        })\n",
    "        return config\n",
    "\n",
    "    @classmethod\n",
    "    def from_config(cls, config):\n",
    "        return cls(**config)\n",
    "\n",
    "# Domain Classifier\n",
    "def create_domain_classifier(feature_extractor_output):\n",
    "    x = GradientReversalLayer(lambda_=1.0)(feature_extractor_output)\n",
    "    x = Dense(128, activation='relu', kernel_regularizer=tf.keras.regularizers.l2(0.01))(x)\n",
    "    x = Dropout(0.4)(x)  # More moderate dropout rate\n",
    "    domain_output = Dense(1, activation='sigmoid', name='domain_output')(x)\n",
    "    return domain_output\n",
    "\n",
    "# Input shapes\n",
    "original_input_shape = (13, 332)\n",
    "reshaped_input_shape = (13, 332, 1)\n",
    "target_input_shape = (224, 224, 3)  # Updated target input shape\n",
    "\n",
    "# Model architecture\n",
    "base_model = MobileNetV3Small(weights='imagenet', include_top=False, input_shape=target_input_shape, pooling='avg')\n",
    "base_model.trainable = True\n",
    "\n",
    "input_layer = Input(shape=original_input_shape)\n",
    "reshaped_input = Reshape(reshaped_input_shape)(input_layer)\n",
    "upsampled_input = UpSampling2D(size=(7, 1))(reshaped_input)\n",
    "conv_input = Conv2D(3, (3, 3), activation='relu', padding='same')(upsampled_input)\n",
    "resized_input = tf.keras.layers.Resizing(224, 224)(conv_input)  # Updated resizing layer\n",
    "x = base_model(resized_input, training=True)\n",
    "\n",
    "feature_extractor_output = Flatten()(x)\n",
    "\n",
    "# Task-specific classifier\n",
    "task_output = Dense(64, activation='relu', kernel_regularizer=tf.keras.regularizers.l2(0.01))(feature_extractor_output)\n",
    "task_output = Dropout(0.4)(task_output)  # More moderate dropout rate\n",
    "task_output = Dense(y_train_onehot.shape[1], activation='softmax', name='task_output')(task_output)\n",
    "\n",
    "# Domain classifier\n",
    "domain_output = create_domain_classifier(feature_extractor_output)\n",
    "\n",
    "# Create the combined model\n",
    "model = Model(inputs=input_layer, outputs=[task_output, domain_output])\n",
    "\n",
    "# Compile the model with two losses\n",
    "model.compile(optimizer=Adam(learning_rate=0.0001),  # Lowered initial learning rate\n",
    "              loss={'task_output': 'categorical_crossentropy', 'domain_output': 'binary_crossentropy'},\n",
    "              metrics={'task_output': 'accuracy', 'domain_output': 'accuracy'})\n",
    "\n",
    "# Callbacks\n",
    "early_stopping_monitor = EarlyStopping(monitor='val_loss', patience=20, restore_best_weights=True, verbose=1)\n",
    "reduce_lr_on_plateau = ReduceLROnPlateau(monitor='val_loss', factor=0.1, patience=10, min_lr=0.0000001, verbose=1)\n",
    "\n",
    "class SaveWeightsCallback(Callback):\n",
    "    def __init__(self, save_freq, filepath):\n",
    "        super(SaveWeightsCallback, self).__init__()\n",
    "        self.save_freq = save_freq\n",
    "        self.filepath = filepath\n",
    "    \n",
    "    def on_epoch_end(self, epoch, logs=None):\n",
    "        if (epoch + 1) % self.save_freq == 0:\n",
    "            self.model.save_weights(self.filepath.format(epoch=epoch + 1))\n",
    "\n",
    "weights_saver = SaveWeightsCallback(save_freq=10, filepath='saved_data/mobilenetv3small_adversarial-trained_finetuned_weights_epoch_{epoch}.weights.h5')  # More frequent weight saving\n",
    "\n",
    "# Assuming x_train, y_train_onehot, genders_train, x_val, y_val_onehot, and genders_val are defined and loaded\n",
    "\n",
    "# Train the model\n",
    "num_epochs_per_stage = 50\n",
    "total_epochs = 500\n",
    "current_epoch = 0\n",
    "all_history = []\n",
    "\n",
    "while (current_epoch < total_epochs):\n",
    "    try:\n",
    "        latest_weights_file = load_latest_weights('saved_data', '.weights.h5')\n",
    "        if latest_weights_file:\n",
    "            model.load_weights(latest_weights_file)\n",
    "\n",
    "        valid_idx = genders_train != -1\n",
    "        x_train_valid = x_train[valid_idx]\n",
    "        y_train_onehot_valid = y_train_onehot[valid_idx]\n",
    "        genders_train_valid = genders_train[valid_idx]\n",
    "\n",
    "        history = model.fit(\n",
    "            x_train,\n",
    "            {'task_output': y_train_onehot, 'domain_output': genders_train},\n",
    "            epochs=current_epoch + num_epochs_per_stage,\n",
    "            batch_size=512,  # Reduced batch size\n",
    "            validation_data=(x_val, {'task_output': y_val_onehot, 'domain_output': genders_val}),\n",
    "            callbacks=[weights_saver, early_stopping_monitor, reduce_lr_on_plateau],\n",
    "            initial_epoch=current_epoch,\n",
    "            verbose=1  \n",
    "        )\n",
    "        \n",
    "        all_history.append(history.history)\n",
    "        current_epoch += len(history.history['loss'])\n",
    "        gc.collect()\n",
    "\n",
    "        if early_stopping_monitor.stopped_epoch > 0:\n",
    "            print(f\"Early stopping triggered at epoch {current_epoch}\")\n",
    "            break\n",
    "\n",
    "    except Exception as e:\n",
    "        print(\"An error occurred during training:\", e)\n",
    "        break"
   ]
  },
  {
   "cell_type": "code",
   "execution_count": null,
   "id": "450f16c9",
   "metadata": {},
   "outputs": [],
   "source": [
    "# Save final model\n",
    "model.save('saved_data/adversarial-training_mobilenetv3small_fine-tuning.keras')\n",
    "\n",
    "# Concatenate all history segments into one dictionary if there are any segments\n",
    "if all_history:\n",
    "    final_history = {key: np.concatenate([seg[key] for seg in all_history]) for key in all_history[0]}\n",
    "    # Save the final training history\n",
    "    with open('saved_data/adversarial-training_mobilenetv3small_fine-tuning_training-history.joblib', 'wb') as f:\n",
    "        pickle.dump(final_history, f)\n",
    "else:\n",
    "    print(\"No training history was recorded.\")"
   ]
  }
 ],
 "metadata": {
  "kernelspec": {
   "display_name": "Python 3 (ipykernel)",
   "language": "python",
   "name": "python3"
  },
  "language_info": {
   "codemirror_mode": {
    "name": "ipython",
    "version": 3
   },
   "file_extension": ".py",
   "mimetype": "text/x-python",
   "name": "python",
   "nbconvert_exporter": "python",
   "pygments_lexer": "ipython3",
   "version": "3.11.3"
  }
 },
 "nbformat": 4,
 "nbformat_minor": 5
}
