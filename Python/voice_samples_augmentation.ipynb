{
 "cells": [
  {
   "cell_type": "code",
   "execution_count": 27,
   "id": "7eb33a9d",
   "metadata": {},
   "outputs": [
    {
     "name": "stderr",
     "output_type": "stream",
     "text": [
      "/var/folders/ry/454yhlzx6hd15j7rjv4th0lw0000gn/T/ipykernel_55529/1194679256.py:2: DeprecationWarning: Importing display from IPython.core.display is deprecated since IPython 7.14, please import from IPython display\n",
      "  from IPython.core.display import display, HTML\n"
     ]
    },
    {
     "data": {
      "text/html": [
       "<style>.container { width:100% !important; }</style>"
      ],
      "text/plain": [
       "<IPython.core.display.HTML object>"
      ]
     },
     "metadata": {},
     "output_type": "display_data"
    }
   ],
   "source": [
    "#-------------------------------------------------------------------------------------JUPYTER NOTEBOOK SETTINGS-------------------------------------------------------------------------------------\n",
    "from IPython.core.display import display, HTML                                    \n",
    "display(HTML(\"<style>.container { width:100% !important; }</style>\"))   "
   ]
  },
  {
   "cell_type": "code",
   "execution_count": 25,
   "id": "307aec32",
   "metadata": {},
   "outputs": [],
   "source": [
    "import librosa\n",
    "import numpy as np\n",
    "import soundfile as sf\n",
    "import os\n",
    "import glob\n",
    "from tqdm import tqdm"
   ]
  },
  {
   "cell_type": "code",
   "execution_count": 39,
   "id": "8fb43032",
   "metadata": {},
   "outputs": [
    {
     "name": "stdout",
     "output_type": "stream",
     "text": [
      "Found 1000 files.\n"
     ]
    },
    {
     "name": "stderr",
     "output_type": "stream",
     "text": [
      "Processing files: 100%|█████████████████████| 1000/1000 [00:32<00:00, 31.15it/s]\n"
     ]
    }
   ],
   "source": [
    "def change_volume(y, factor):\n",
    "    return y * factor\n",
    "\n",
    "def add_noise(y, noise_factor=0.005):\n",
    "    noise = np.random.randn(len(y))\n",
    "    return y + noise_factor * noise\n",
    "\n",
    "def remove_parts(y, sr, remove_ratio=0.1):\n",
    "    y_len = len(y)\n",
    "    part_len = int(y_len * remove_ratio)\n",
    "    start = np.random.randint(0, y_len - part_len)\n",
    "    y[start:start + part_len] = 0\n",
    "    return y\n",
    "\n",
    "def change_speed(y, speed_factor):\n",
    "    return librosa.effects.time_stretch(y, rate=speed_factor)\n",
    "\n",
    "def add_silence(y, sr, position='beginning', silence_duration_ms=100):\n",
    "    silence = np.zeros(int(sr * silence_duration_ms / 1000))\n",
    "    if position == 'beginning':\n",
    "        return np.concatenate([silence, y])\n",
    "    elif position == 'end':\n",
    "        return np.concatenate([y, silence])\n",
    "\n",
    "def save_audio(y, sr, filename):\n",
    "    sf.write(filename, y, sr)\n",
    "\n",
    "def create_variations(audio_path):\n",
    "    #print(f\"Processing {audio_path}...\")\n",
    "    y, sr = librosa.load(audio_path, sr=None)\n",
    "    \n",
    "    base_filename, ext = os.path.splitext(audio_path)\n",
    "    base_filename = os.path.join(os.path.dirname(base_filename), os.path.basename(base_filename).replace(' ', '_'))\n",
    "\n",
    "    # Higher volume\n",
    "    y_high_vol = change_volume(y, 1.5)\n",
    "    save_audio(y_high_vol, sr, f'{base_filename}_high_volume{ext}')\n",
    "\n",
    "    # Lower volume\n",
    "    y_low_vol = change_volume(y, 0.5)\n",
    "    save_audio(y_low_vol, sr, f'{base_filename}_low_volume{ext}')\n",
    "\n",
    "    # Added noise\n",
    "    y_noise = add_noise(y)\n",
    "    save_audio(y_noise, sr, f'{base_filename}_noise{ext}')\n",
    "\n",
    "    # Parts missing\n",
    "    y_missing = remove_parts(y.copy(), sr)\n",
    "    save_audio(y_missing, sr, f'{base_filename}_parts_missing{ext}')\n",
    "\n",
    "    # Faster\n",
    "    y_faster = change_speed(y, 1.25)\n",
    "    save_audio(y_faster, sr, f'{base_filename}_faster{ext}')\n",
    "\n",
    "    # Slower\n",
    "    y_slower = change_speed(y, 0.75)\n",
    "    save_audio(y_slower, sr, f'{base_filename}_slower{ext}')\n",
    "\n",
    "    # 100ms of silence at the beginning\n",
    "    y_silence_begin = add_silence(y, sr, position='beginning', silence_duration_ms=100)\n",
    "    save_audio(y_silence_begin, sr, f'{base_filename}_silence_begin{ext}')\n",
    "\n",
    "    # 100ms of silence at the end\n",
    "    y_silence_end = add_silence(y, sr, position='end', silence_duration_ms=100)\n",
    "    save_audio(y_silence_end, sr, f'{base_filename}_silence_end{ext}')\n",
    "    \n",
    "    #print(f\"Finished processing {audio_path}\")\n",
    "\n",
    "def process_directory(directory_path):\n",
    "    mp3_files = glob.glob(os.path.join(directory_path, '*.wav'))\n",
    "    print(f\"Found {len(mp3_files)} files.\")\n",
    "    \n",
    "    for mp3_file in tqdm(mp3_files, desc=\"Processing files\"):\n",
    "        create_variations(mp3_file)\n",
    "\n",
    "directory_path = '/Users/ciprian/Desktop/Projects/Smart Plant Pot/Audio/Voice Recognition/Prototype 3/noise'\n",
    "process_directory(directory_path)"
   ]
  }
 ],
 "metadata": {
  "kernelspec": {
   "display_name": "Python 3 (ipykernel)",
   "language": "python",
   "name": "python3"
  },
  "language_info": {
   "codemirror_mode": {
    "name": "ipython",
    "version": 3
   },
   "file_extension": ".py",
   "mimetype": "text/x-python",
   "name": "python",
   "nbconvert_exporter": "python",
   "pygments_lexer": "ipython3",
   "version": "3.11.3"
  }
 },
 "nbformat": 4,
 "nbformat_minor": 5
}
