{
 "cells": [
  {
   "cell_type": "code",
   "execution_count": 3,
   "id": "6f2b1c3b",
   "metadata": {},
   "outputs": [],
   "source": [
    "import os\n",
    "import gc\n",
    "import re\n",
    "\n",
    "import tensorflow as tf\n",
    "from tensorflow.keras.models import Sequential, load_model\n",
    "from tensorflow.keras.layers import Layer, Input, Conv1D, MaxPooling1D, Dropout, Flatten, Dense, BatchNormalization\n",
    "from tensorflow.keras.regularizers import l2\n",
    "from tensorflow.keras.utils import to_categorical\n",
    "from tensorflow.keras.optimizers import Adam\n",
    "from tensorflow.keras.callbacks import Callback, ReduceLROnPlateau, ModelCheckpoint, EarlyStopping "
   ]
  },
  {
   "cell_type": "code",
   "execution_count": 4,
   "id": "61b1282c",
   "metadata": {},
   "outputs": [],
   "source": [
    "# GradientReversalLayer for adversarial models\n",
    "class GradientReversalLayer(Layer):\n",
    "    def __init__(self, lambda_, **kwargs):\n",
    "        super(GradientReversalLayer, self).__init__(**kwargs)\n",
    "        self.lambda_ = lambda_\n",
    "\n",
    "    @tf.custom_gradient\n",
    "    def call(self, x):\n",
    "        def grad(dy):\n",
    "            return -self.lambda_ * dy\n",
    "        return x, grad\n",
    "\n",
    "    def get_config(self):\n",
    "        config = super().get_config()\n",
    "        config.update({\n",
    "            \"lambda_\": self.lambda_\n",
    "        })\n",
    "        return config\n",
    "\n",
    "    @classmethod\n",
    "    def from_config(cls, config):\n",
    "        return cls(**config)\n",
    "\n",
    "\n",
    "\n",
    "# Load the custom objects\n",
    "custom_objects = {\"GradientReversalLayer\": GradientReversalLayer}\n",
    "\n",
    "# Load the model\n",
    "model_path = 'saved_data/models/adversarial-training_medium-masked_mobilenetv3small-finetuned_v3/adversarial-training_mobilenetv3small_fine-tuning.keras'\n",
    "model = tf.keras.models.load_model(model_path, custom_objects=custom_objects)"
   ]
  }
 ],
 "metadata": {
  "kernelspec": {
   "display_name": "tf-2.14",
   "language": "python",
   "name": "tf-2.14"
  },
  "language_info": {
   "codemirror_mode": {
    "name": "ipython",
    "version": 3
   },
   "file_extension": ".py",
   "mimetype": "text/x-python",
   "name": "python",
   "nbconvert_exporter": "python",
   "pygments_lexer": "ipython3",
   "version": "3.11.0"
  }
 },
 "nbformat": 4,
 "nbformat_minor": 5
}
