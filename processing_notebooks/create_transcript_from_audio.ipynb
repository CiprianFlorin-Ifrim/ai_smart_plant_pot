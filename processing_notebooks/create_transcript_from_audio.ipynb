{
 "cells": [
  {
   "cell_type": "code",
   "execution_count": 2,
   "id": "95c23382",
   "metadata": {},
   "outputs": [
    {
     "name": "stderr",
     "output_type": "stream",
     "text": [
      "/var/folders/ry/454yhlzx6hd15j7rjv4th0lw0000gn/T/ipykernel_73235/4123656545.py:2: DeprecationWarning: Importing display from IPython.core.display is deprecated since IPython 7.14, please import from IPython display\n",
      "  from IPython.core.display import display, HTML\n"
     ]
    },
    {
     "data": {
      "text/html": [
       "<style>.container { width:100% !important; }</style>"
      ],
      "text/plain": [
       "<IPython.core.display.HTML object>"
      ]
     },
     "metadata": {},
     "output_type": "display_data"
    }
   ],
   "source": [
    "#-------------------------------------------------------------------------------------JUPYTER NOTEBOOK SETTINGS-------------------------------------------------------------------------------------\n",
    "from IPython.core.display import display, HTML                                    \n",
    "display(HTML(\"<style>.container { width:100% !important; }</style>\"))  \n",
    "import IPython.display as display"
   ]
  },
  {
   "cell_type": "code",
   "execution_count": 14,
   "id": "3ef0e7ed",
   "metadata": {},
   "outputs": [],
   "source": [
    "import speech_recognition as sr\n",
    "import os \n",
    "import concurrent.futures\n",
    "from tqdm import tqdm"
   ]
  },
  {
   "cell_type": "code",
   "execution_count": 6,
   "id": "8d9732b3",
   "metadata": {},
   "outputs": [],
   "source": [
    "def transcribe_wav(file_path):\n",
    "    # Initialize recognizer\n",
    "    recognizer = sr.Recognizer()\n",
    "    \n",
    "    # Load the audio file\n",
    "    with sr.AudioFile(file_path) as source:\n",
    "        # Listen to the audio file\n",
    "        audio_data = recognizer.record(source)\n",
    "        \n",
    "        try:\n",
    "            # Recognize speech using Google's Web Speech API\n",
    "            text = recognizer.recognize_google(audio_data)\n",
    "            print(f\"Transcript: {text}\")\n",
    "            return text\n",
    "        except sr.RequestError as e:\n",
    "            print(f\"Could not request results from Google Web Speech API; {e}\")\n",
    "        except sr.UnknownValueError:\n",
    "            print(\"Google Web Speech API could not understand the audio\")\n",
    "            \n",
    "if __name__ == \"__main__\":\n",
    "    # Path to your .wav file\n",
    "    wav_file_path = \"/Users/ciprian/Desktop/Projects/Smart Plant Pot/Audio/Voice Recognition/Prototype 4/male/battery/battery_sample_406.wav\"\n",
    "    \n",
    "    # Transcribe the .wav file\n",
    "    transcribe_wav_delete_matching(wav_file_path)"
   ]
  },
  {
   "cell_type": "code",
   "execution_count": 16,
   "id": "ba2a5093",
   "metadata": {},
   "outputs": [
    {
     "name": "stderr",
     "output_type": "stream",
     "text": [
      "\r",
      "  0%|                                                                               | 0/50 [00:00<?, ?it/s]"
     ]
    },
    {
     "name": "stdout",
     "output_type": "stream",
     "text": [
      "Google Web Speech API could not understand the audio for /Users/ciprian/Desktop/Projects/Smart Plant Pot/Audio/Voice Recognition/Prototype 4/male/battery/battery_sample_336.wav\n"
     ]
    },
    {
     "name": "stderr",
     "output_type": "stream",
     "text": [
      "  0%|                                                                               | 0/50 [00:24<?, ?it/s]\n"
     ]
    }
   ],
   "source": [
    "def transcribe_and_delete(file_path, phrase_to_match):\n",
    "    recognizer = sr.Recognizer()\n",
    "    \n",
    "    try:\n",
    "        # Load the audio file\n",
    "        with sr.AudioFile(file_path) as source:\n",
    "            audio_data = recognizer.record(source)\n",
    "        \n",
    "        # Recognize speech using Google's Web Speech API\n",
    "        text = recognizer.recognize_google(audio_data)\n",
    "        #print(f\"Transcript for {file_path}: {text}\")\n",
    "        \n",
    "        # Check if the transcript matches the given phrase\n",
    "        if text == phrase_to_match:\n",
    "            # Delete the file if it matches the phrase\n",
    "            os.remove(file_path)\n",
    "            #print(f\"File {file_path} deleted because it matches the phrase '{phrase_to_match}'\")\n",
    "            return True\n",
    "        else:\n",
    "            #print(f\"File {file_path} does not match the phrase '{phrase_to_match}'\")\n",
    "            return False\n",
    "    except sr.RequestError as e:\n",
    "        print(f\"Could not request results from Google Web Speech API; {e}\")\n",
    "        return False\n",
    "    except sr.UnknownValueError:\n",
    "        print(f\"Google Web Speech API could not understand the audio for {file_path}\")\n",
    "        return False\n",
    "\n",
    "def transcribe_and_delete_files(source_folder, phrase_to_match, file_limit=50):\n",
    "    # List all .wav files in the source folder\n",
    "    files = [os.path.join(source_folder, f) for f in os.listdir(source_folder) if f.endswith(\".wav\")]\n",
    "    \n",
    "    # Initialize progress bar\n",
    "    with tqdm(total=min(len(files), file_limit)) as pbar:\n",
    "        # Use ThreadPoolExecutor for multithreading\n",
    "        with concurrent.futures.ThreadPoolExecutor() as executor:\n",
    "            # Track the number of deleted files\n",
    "            delete_count = 0\n",
    "            futures = {executor.submit(transcribe_and_delete, file, phrase_to_match): file for file in files}\n",
    "            \n",
    "            for future in concurrent.futures.as_completed(futures):\n",
    "                if future.result():\n",
    "                    delete_count += 1\n",
    "                    pbar.update(1)\n",
    "                \n",
    "                if delete_count >= file_limit:\n",
    "                    print(f\"File limit of {file_limit} reached. Stopping deletion.\")\n",
    "                    break\n",
    "\n",
    "if __name__ == \"__main__\":\n",
    "    # Path to your source folder\n",
    "    source_folder = \"/Users/ciprian/Desktop/Projects/Smart Plant Pot/Audio/Voice Recognition/Prototype 4/male/battery\"\n",
    "    \n",
    "    # Phrase to match\n",
    "    phrase_to_match = \"how much charge does the battery have\"\n",
    "    \n",
    "    # Transcribe and possibly delete files\n",
    "    transcribe_and_delete_files(source_folder, phrase_to_match)"
   ]
  }
 ],
 "metadata": {
  "kernelspec": {
   "display_name": "Python 3 (ipykernel)",
   "language": "python",
   "name": "python3"
  },
  "language_info": {
   "codemirror_mode": {
    "name": "ipython",
    "version": 3
   },
   "file_extension": ".py",
   "mimetype": "text/x-python",
   "name": "python",
   "nbconvert_exporter": "python",
   "pygments_lexer": "ipython3",
   "version": "3.11.3"
  }
 },
 "nbformat": 4,
 "nbformat_minor": 5
}
