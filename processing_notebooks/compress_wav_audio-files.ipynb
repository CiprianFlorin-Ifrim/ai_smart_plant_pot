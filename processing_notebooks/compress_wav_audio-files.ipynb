{
 "cells": [
  {
   "cell_type": "code",
   "execution_count": 2,
   "id": "0e61be67",
   "metadata": {},
   "outputs": [],
   "source": [
    "import os\n",
    "from pydub import AudioSegment\n",
    "from scipy.io import wavfile\n",
    "from tqdm import tqdm\n",
    "from concurrent.futures import ThreadPoolExecutor"
   ]
  },
  {
   "cell_type": "code",
   "execution_count": 6,
   "id": "aeee401e",
   "metadata": {},
   "outputs": [
    {
     "name": "stderr",
     "output_type": "stream",
     "text": [
      "Compressing WAV files: 100%|██████████████████████████████████████████| 4000/4000 [00:07<00:00, 565.10it/s]\n"
     ]
    }
   ],
   "source": [
    "def compress_wav_file(file_path, target_sample_rate=16000, target_bit_depth=16):\n",
    "    # Read the original WAV file\n",
    "    audio = AudioSegment.from_wav(file_path)\n",
    "    \n",
    "    # Set the sample rate and bit depth for compression\n",
    "    compressed_audio = audio.set_frame_rate(target_sample_rate).set_sample_width(target_bit_depth // 8)\n",
    "    \n",
    "    # Export the compressed audio back to WAV, overwriting the original file\n",
    "    compressed_audio.export(file_path, format=\"wav\")\n",
    "\n",
    "def compress_wav_files(folder_path, target_sample_rate=16000, target_bit_depth=16, max_workers=10):\n",
    "    wav_files = [os.path.join(folder_path, f) for f in os.listdir(folder_path) if f.endswith(\".wav\")]\n",
    "    \n",
    "    with ThreadPoolExecutor(max_workers=max_workers) as executor:\n",
    "        list(tqdm(executor.map(compress_wav_file, wav_files, [target_sample_rate]*len(wav_files), [target_bit_depth]*len(wav_files)), total=len(wav_files), desc=\"Compressing WAV files\"))\n",
    "\n",
    "# Usage\n",
    "folder_path = '/Users/ciprian/Desktop/Projects/Smart Plant Pot/Audio/Voice Recognition/Prototype 4/noise/loud'  # replace with your folder path\n",
    "compress_wav_files(folder_path)\n"
   ]
  }
 ],
 "metadata": {
  "kernelspec": {
   "display_name": "Python 3 (ipykernel)",
   "language": "python",
   "name": "python3"
  },
  "language_info": {
   "codemirror_mode": {
    "name": "ipython",
    "version": 3
   },
   "file_extension": ".py",
   "mimetype": "text/x-python",
   "name": "python",
   "nbconvert_exporter": "python",
   "pygments_lexer": "ipython3",
   "version": "3.11.3"
  }
 },
 "nbformat": 4,
 "nbformat_minor": 5
}
