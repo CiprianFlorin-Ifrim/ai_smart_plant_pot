{
 "cells": [
  {
   "cell_type": "code",
   "execution_count": 1,
   "id": "16952e11",
   "metadata": {},
   "outputs": [],
   "source": [
    "import os\n",
    "\n",
    "# Add the path to ffmpeg and ffprobe before importing pydub\n",
    "ffmpeg_path = '/opt/homebrew/bin'  # Common path for Homebrew installations on Apple Silicon Macs\n",
    "if os.path.exists(ffmpeg_path):\n",
    "    os.environ[\"PATH\"] += os.pathsep + ffmpeg_path\n",
    "\n",
    "from pydub import AudioSegment"
   ]
  },
  {
   "cell_type": "code",
   "execution_count": 2,
   "id": "a8a7198f",
   "metadata": {},
   "outputs": [],
   "source": [
    "def convert_mp3_to_wav(source_folder, target_folder):\n",
    "    \"\"\"\n",
    "    Convert all MP3 files in the source folder to WAV format in the target folder.\n",
    "    \"\"\"\n",
    "    # Ensure the target folder exists\n",
    "    if not os.path.exists(target_folder):\n",
    "        os.makedirs(target_folder)\n",
    "\n",
    "    # List all files in the source folder\n",
    "    for filename in os.listdir(source_folder):\n",
    "        if filename.endswith('.mp3'):\n",
    "            mp3_path = os.path.join(source_folder, filename)\n",
    "            wav_path = os.path.join(target_folder, os.path.splitext(filename)[0] + '.wav')\n",
    "\n",
    "            # Load the MP3 file\n",
    "            audio = AudioSegment.from_mp3(mp3_path)\n",
    "\n",
    "            # Convert to WAV and save\n",
    "            audio.export(wav_path, format='wav')\n",
    "            print(f\"Converted '{filename}' to WAV format.\")"
   ]
  },
  {
   "cell_type": "code",
   "execution_count": 4,
   "id": "5c7a907b",
   "metadata": {},
   "outputs": [
    {
     "name": "stdout",
     "output_type": "stream",
     "text": [
      "Converted 'battery_sample_1.mp3' to WAV format.\n",
      "Converted 'description_sample_1.mp3' to WAV format.\n",
      "Converted 'greeting_sample_2.mp3' to WAV format.\n",
      "Converted 'description_sample_2.mp3' to WAV format.\n",
      "Converted 'greeting_sample_1.mp3' to WAV format.\n",
      "Converted 'environment_sample_1.mp3' to WAV format.\n",
      "Converted 'sun_sample_1.mp3' to WAV format.\n",
      "Converted 'environment_sample_2.mp3' to WAV format.\n",
      "Converted 'health_sample_1.mp3' to WAV format.\n"
     ]
    }
   ],
   "source": [
    "source_folder = '/Users/ciprian/Desktop/Projects/Smart Plant Pot/Audio/Voice Recognition/Testing Samples/ciprian'\n",
    "target_folder = '/Users/ciprian/Desktop/Projects/Smart Plant Pot/Audio/Voice Recognition/Testing Samples/ciprian'\n",
    "\n",
    "convert_mp3_to_wav(source_folder, target_folder)"
   ]
  }
 ],
 "metadata": {
  "kernelspec": {
   "display_name": "Python 3 (ipykernel)",
   "language": "python",
   "name": "python3"
  },
  "language_info": {
   "codemirror_mode": {
    "name": "ipython",
    "version": 3
   },
   "file_extension": ".py",
   "mimetype": "text/x-python",
   "name": "python",
   "nbconvert_exporter": "python",
   "pygments_lexer": "ipython3",
   "version": "3.11.3"
  }
 },
 "nbformat": 4,
 "nbformat_minor": 5
}
