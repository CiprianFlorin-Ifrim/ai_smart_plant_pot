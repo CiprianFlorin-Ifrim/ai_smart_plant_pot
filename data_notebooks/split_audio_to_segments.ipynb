{
 "cells": [
  {
   "cell_type": "code",
   "execution_count": 16,
   "id": "8f81e669",
   "metadata": {},
   "outputs": [],
   "source": [
    "import random\n",
    "import os\n",
    "\n",
    "# Add the path to ffmpeg and ffprobe before importing pydub\n",
    "ffmpeg_path = '/opt/homebrew/bin'  # Common path for Homebrew installations on Apple Silicon Macs\n",
    "if os.path.exists(ffmpeg_path):\n",
    "    os.environ[\"PATH\"] += os.pathsep + ffmpeg_path\n",
    "\n",
    "from pydub import AudioSegment\n",
    "\n",
    "AudioSegment.ffmpeg_parameters = {\n",
    "    '-analyzeduration': '2147483647',  # Maximum value\n",
    "    '-probesize': '2147483647'  # Maximum value\n",
    "}"
   ]
  },
  {
   "cell_type": "code",
   "execution_count": 25,
   "id": "bd22f37a",
   "metadata": {},
   "outputs": [
    {
     "name": "stdout",
     "output_type": "stream",
     "text": [
      "Enter the path to the MP3 file: /Users/ciprian/Desktop/Projects/Smart Plant Pot/Audio/Voice Recognition/youtube sample noise/room_silence.wav\n",
      "Enter the output directory for WAV files: /Users/ciprian/Desktop/Projects/Smart Plant Pot/Audio/Voice Recognition/Prototype 4/noise/silence\n",
      "Enter the number of WAV files to create: 3\n",
      "Segment 3998: 1093.3778264427056 ms\n",
      "Segment 3999: 1410.7706672493969 ms\n",
      "Segment 4000: 1582.6067067811564 ms\n"
     ]
    }
   ],
   "source": [
    "def split_mp3_to_random_wavs(input_file, output_dir, num_files):\n",
    "    \"\"\"Splits an MP3 file into a given number of random-length WAV files.\"\"\"\n",
    "    # Load the MP3 file\n",
    "    audio = AudioSegment.from_mp3(input_file)\n",
    "    \n",
    "    # Ensure the output directory exists\n",
    "    if not os.path.exists(output_dir):\n",
    "        os.makedirs(output_dir)\n",
    "    \n",
    "    # Process the audio file\n",
    "    total_length = len(audio)\n",
    "    \n",
    "    # Make sure we do not exceed the total length of the audio\n",
    "    if total_length < 2000:\n",
    "        print(\"Error: The MP3 file must be at least 2 seconds long.\")\n",
    "        return\n",
    "    \n",
    "    for i in range(num_files):\n",
    "        segment_length = random.uniform(1000, 2000)  # Between 1 and 2 seconds\n",
    "        if total_length - segment_length > 0:\n",
    "            start_point = random.randint(0, int(total_length - segment_length))\n",
    "            segment = audio[start_point:start_point + segment_length]\n",
    "            segment.export(os.path.join(output_dir, f\"segment_{i+1}.wav\"), format=\"wav\")\n",
    "            print(f\"Segment {i+1}: {segment_length} ms\")\n",
    "        else:\n",
    "            print(\"Not enough audio length left for another segment.\")\n",
    "\n",
    "def main():\n",
    "    input_mp3 = input(\"Enter the path to the MP3 file: \")\n",
    "    output_directory = input(\"Enter the output directory for WAV files: \")\n",
    "    number_of_files = int(input(\"Enter the number of WAV files to create: \"))\n",
    "    split_mp3_to_random_wavs(input_mp3, output_directory, number_of_files)\n",
    "\n",
    "if __name__ == \"__main__\":\n",
    "    main()"
   ]
  }
 ],
 "metadata": {
  "kernelspec": {
   "display_name": "Python 3 (ipykernel)",
   "language": "python",
   "name": "python3"
  },
  "language_info": {
   "codemirror_mode": {
    "name": "ipython",
    "version": 3
   },
   "file_extension": ".py",
   "mimetype": "text/x-python",
   "name": "python",
   "nbconvert_exporter": "python",
   "pygments_lexer": "ipython3",
   "version": "3.11.3"
  }
 },
 "nbformat": 4,
 "nbformat_minor": 5
}
